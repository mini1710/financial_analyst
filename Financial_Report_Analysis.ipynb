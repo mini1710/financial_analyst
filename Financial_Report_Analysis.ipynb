{
 "cells": [
  {
   "cell_type": "code",
   "execution_count": 3,
   "metadata": {
    "id": "MEuq-joEDrAB"
   },
   "outputs": [],
   "source": [
    "# !pip install langchain-openai==0.3.0\n",
    "# !pip install langchain-core==0.3.29"
   ]
  },
  {
   "cell_type": "code",
   "execution_count": 4,
   "metadata": {
    "id": "Pb-pnbrpGs-9"
   },
   "outputs": [],
   "source": [
    "from getpass import getpass\n",
    "import os\n",
    "from langchain_core.prompts import ChatPromptTemplate\n",
    "from langchain_core.messages import HumanMessage,SystemMessage\n",
    "from langchain_openai import ChatOpenAI\n",
    "from IPython.display import display"
   ]
  },
  {
   "cell_type": "code",
   "execution_count": 5,
   "metadata": {
    "id": "2kWYls3nG1rk"
   },
   "outputs": [],
   "source": [
    "img_url1 = r\"https://imgur.com/2MjFuTI.png\"\n",
    "img_url2 = r\"https://imgur.com/2bNuG6w.png\""
   ]
  },
  {
   "cell_type": "markdown",
   "metadata": {
    "id": "SRDIZywuIGn6"
   },
   "source": [
    "## Create Prompt"
   ]
  },
  {
   "cell_type": "code",
   "execution_count": 18,
   "metadata": {
    "id": "LQ0cwq_Nuz2v"
   },
   "outputs": [],
   "source": [
    "system_prompt = \"\"\"You are a financial analyst. You have to analyse the images provided by the user and provide financial insights.\n",
    "The generated output should have the below information only if the relevant information is available in the input, do not make up things on your own.\n",
    "\n",
    "- Highlight key performance metrics such as revenue, net income, earnings per share (EPS), and growth trends compared to\n",
    "   previous periods.\n",
    "- Key financial statements like the balance sheet, income statement, and cash flow statement should be summarized to reflect the\n",
    "company's assets, liabilities, equity, revenue, expenses, and cash flows.\n",
    "- Insights into operational performance, market conditions,and management's commentary on future outlooks, risks, and strategic priorities.\n",
    "Including financial ratios (like profitability, liquidity, and leverage ratios) and any notable events, such as acquisitions or major partnerships, can further enhance\n",
    "the summary\n",
    "- Any risks, challenges, and external factors that might impact the business, along with the company’s approach to managing\n",
    "those risks\n",
    "- Add shareholder-related information such as dividends or stock performance. This concise summary gives stakeholders a\n",
    "clear, high-level view of the company’s financial health and strategic direction.\n",
    "\n",
    "\"\"\"\n",
    "instructions = \"\"\"Please summarize the attached financial images\"\"\""
   ]
  },
  {
   "cell_type": "markdown",
   "metadata": {
    "id": "lReIpDzilMKr"
   },
   "source": [
    "## Configure Model"
   ]
  },
  {
   "cell_type": "code",
   "execution_count": 7,
   "metadata": {
    "colab": {
     "base_uri": "https://localhost:8080/"
    },
    "id": "he6C6lel73v5",
    "outputId": "afc95f06-d77b-4b95-a7ab-237cdfa4287a"
   },
   "outputs": [
    {
     "name": "stdout",
     "output_type": "stream",
     "text": [
      "··········\n"
     ]
    }
   ],
   "source": [
    "OPENAPI_KEY = getpass()\n",
    "os.environ['OPENAI_API_KEY'] = OPENAPI_KEY"
   ]
  },
  {
   "cell_type": "code",
   "execution_count": 14,
   "metadata": {
    "id": "G6RQ_93O9HGY"
   },
   "outputs": [],
   "source": [
    "model = ChatOpenAI(model_name='gpt-4-turbo',temperature = 0)"
   ]
  },
  {
   "cell_type": "code",
   "execution_count": 19,
   "metadata": {
    "id": "o9M2vwyUp0VK"
   },
   "outputs": [],
   "source": [
    "template = ChatPromptTemplate.from_messages([\n",
    "    SystemMessage(content=system_prompt),\n",
    "    HumanMessage(content = [\n",
    "        {\"type\": \"text\", \"text\": instructions},\n",
    "        {\"type\": \"image_url\", \"image_url\": {\"url\": img_url1}},\n",
    "        {\"type\": \"image_url\", \"image_url\": {\"url\": img_url2}},\n",
    "    ]),\n",
    "])"
   ]
  },
  {
   "cell_type": "code",
   "execution_count": 20,
   "metadata": {
    "id": "-nmycwbPm0KB"
   },
   "outputs": [],
   "source": [
    "conversation_chain = (\n",
    "    template\n",
    "      |\n",
    "    model\n",
    ")\n",
    "\n",
    "messages = template.format(input_list = [img_url1,img_url2])"
   ]
  },
  {
   "cell_type": "code",
   "execution_count": 21,
   "metadata": {
    "id": "SkEjxYWopD2X"
   },
   "outputs": [],
   "source": [
    "response = conversation_chain.invoke({\"input\":messages})"
   ]
  },
  {
   "cell_type": "markdown",
   "metadata": {
    "id": "Jqa12N-A9QpK"
   },
   "source": [
    "## Output Response"
   ]
  },
  {
   "cell_type": "code",
   "execution_count": 23,
   "metadata": {
    "colab": {
     "base_uri": "https://localhost:8080/"
    },
    "id": "kK-hWnOP5OCH",
    "outputId": "016b180f-a4a7-4dbd-fe9a-0aaf7fe4c624"
   },
   "outputs": [
    {
     "name": "stdout",
     "output_type": "stream",
     "text": [
      "==================================\u001b[1m Ai Message \u001b[0m==================================\n",
      "\n",
      "### Financial Analysis Summary\n",
      "\n",
      "#### Key Financial Metrics\n",
      "- **Total Revenues**: Increased by 1% quarter-over-quarter (QoQ) and 1% year-over-year (YoY) to $20,315 million in 3Q24, driven by a 10% increase in Non-Interest Revenue.\n",
      "- **Net Income**: Reported at $3,238 million in 3Q24, showing a slight increase of 1% QoQ but a decrease of 9% YoY.\n",
      "- **Diluted EPS**: Stood at $1.51 in 3Q24, reflecting a 1% decrease QoQ and a 7% decrease YoY.\n",
      "- **Efficiency Ratio**: Deteriorated to 65%, indicating higher costs relative to revenues.\n",
      "- **ROE and RoTCE**: ROE was 6.2% and RoTCE decreased by 0.7 percentage points QoQ to 7.0%.\n",
      "\n",
      "#### Balance Sheet Highlights\n",
      "- **Total Assets**: Increased slightly by 1% QoQ to $2,431 billion.\n",
      "- **Loans, Net**: Grew by 3% YoY to $671 billion.\n",
      "- **Deposits**: Increased by 3% YoY to $1,310 billion, indicating strong deposit growth.\n",
      "- **CET1 Capital Ratio**: Improved slightly to 13.7% in 3Q24 from 13.6% in 3Q23.\n",
      "\n",
      "#### Risk and Capital Management\n",
      "- **Credit Costs**: Increased by 45% YoY to $2,675 million, largely due to higher credit losses in cards.\n",
      "- **Liquidity Coverage Ratio**: Remained stable at 117%, ensuring strong liquidity.\n",
      "- **Supplementary Leverage Ratio**: Slightly decreased to 5.8% in 3Q24 from 6.0% in 3Q23, still within regulatory requirements.\n",
      "\n",
      "#### Segment Performance\n",
      "- **Revenue by Segment**: Notable growth in Wealth Banking and Markets segments, with revenues reaching $5.0 billion and $4.7 billion respectively in 3Q24.\n",
      "\n",
      "#### Future Outlook and Strategic Focus\n",
      "- The company is focusing on cost control initiatives and continued investments in transformation projects to enhance operational efficiency.\n",
      "- Management is also closely monitoring credit risk and adjusting credit reserves to manage potential future losses effectively.\n",
      "\n",
      "#### Risks and Challenges\n",
      "- The increase in credit costs and the potential for further economic uncertainty could impact profitability.\n",
      "- Regulatory changes and market volatility remain as potential external risks.\n",
      "\n",
      "This summary provides a comprehensive overview of the company's financial health and strategic direction, highlighting areas of strength such as revenue growth in key segments and robust capital ratios, while also noting areas of concern such as rising credit costs and efficiency challenges.\n"
     ]
    }
   ],
   "source": [
    "response.pretty_print()"
   ]
  }
 ],
 "metadata": {
  "accelerator": "GPU",
  "colab": {
   "gpuType": "T4",
   "provenance": []
  },
  "kernelspec": {
   "display_name": "Python 3 (ipykernel)",
   "language": "python",
   "name": "python3"
  },
  "language_info": {
   "codemirror_mode": {
    "name": "ipython",
    "version": 3
   },
   "file_extension": ".py",
   "mimetype": "text/x-python",
   "name": "python",
   "nbconvert_exporter": "python",
   "pygments_lexer": "ipython3",
   "version": "3.11.11"
  }
 },
 "nbformat": 4,
 "nbformat_minor": 4
}
